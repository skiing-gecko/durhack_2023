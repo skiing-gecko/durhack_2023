{
 "cells": [
  {
   "cell_type": "code",
   "execution_count": 2,
   "id": "68f8a74c-8a18-429f-bcfd-629477dc99fb",
   "metadata": {},
   "outputs": [],
   "source": [
    "from taipy import Config"
   ]
  },
  {
   "cell_type": "code",
   "execution_count": 3,
   "id": "af6be887-1b28-4892-85af-baeee179cb3e",
   "metadata": {},
   "outputs": [],
   "source": [
    "def build_message(name: str):\n",
    "    return f\"Hello {name}!\"\n",
    "\n",
    "\n",
    "input_name_data_node_cfg = Config.configure_data_node(id=\"input_name\")\n",
    "message_data_node_cfg = Config.configure_data_node(id=\"message\")\n",
    "build_msg_task_cfg = Config.configure_task(\"build_msg\", build_message, input_name_data_node_cfg, message_data_node_cfg)\n",
    "scenario_cfg = Config.configure_scenario(\"scenario\", task_configs=[build_msg_task_cfg])"
   ]
  },
  {
   "cell_type": "code",
   "execution_count": 4,
   "id": "d3c1c175-df88-4677-a18b-522aba082550",
   "metadata": {},
   "outputs": [],
   "source": [
    "from taipy import Core"
   ]
  },
  {
   "cell_type": "code",
   "execution_count": 5,
   "id": "69c97076-973b-49d2-98af-80f0c1d72225",
   "metadata": {},
   "outputs": [
    {
     "name": "stdout",
     "output_type": "stream",
     "text": [
      "[2023-11-04 18:28:38][Taipy][INFO] Development mode: Clean all entities of version c4f88ab0-60c3-4efc-9dff-42cfc7593006\n"
     ]
    }
   ],
   "source": [
    "Core().run()"
   ]
  },
  {
   "cell_type": "code",
   "execution_count": 6,
   "id": "420bb07d-f9d5-48d9-8590-f1b9cf91edcc",
   "metadata": {},
   "outputs": [
    {
     "name": "stdout",
     "output_type": "stream",
     "text": [
      "[2023-11-04 18:30:04][Taipy][INFO] job JOB_build_msg_ec8db543-8262-41bb-b180-c264e944d985 is completed.\n",
      "Hello Taipy!\n"
     ]
    }
   ],
   "source": [
    "import taipy as tp\n",
    "\n",
    "hello_scenario = tp.create_scenario(scenario_cfg)\n",
    "hello_scenario.input_name.write(\"Taipy\")\n",
    "hello_scenario.submit()\n",
    "print(hello_scenario.message.read())"
   ]
  },
  {
   "cell_type": "code",
   "execution_count": 7,
   "id": "bee51899-12f4-4336-8bf9-7c47503fbc19",
   "metadata": {},
   "outputs": [],
   "source": [
    "from taipy import Gui"
   ]
  },
  {
   "cell_type": "code",
   "execution_count": 8,
   "id": "47091701-e060-472a-a9ff-d3a5910aaa4d",
   "metadata": {},
   "outputs": [
    {
     "name": "stdout",
     "output_type": "stream",
     "text": [
      "[2023-11-04 18:34:07][Taipy][INFO] Development mode: Clean all entities of version c4f88ab0-60c3-4efc-9dff-42cfc7593006\n",
      "[2023-11-04 18:34:08][Taipy][INFO] Running in 'single_client' mode in notebook environment\n",
      "[2023-11-04 18:34:12][Taipy][INFO]  * Server starting on http://127.0.0.1:5000\n"
     ]
    },
    {
     "name": "stderr",
     "output_type": "stream",
     "text": [
      "UserWarning: libuv only supports millisecond timer resolution; all times less will be set to 1 ms\n"
     ]
    },
    {
     "name": "stdout",
     "output_type": "stream",
     "text": [
      "[2023-11-04 18:34:27][Taipy][INFO] job JOB_build_msg_ebd19d5e-5065-482b-9b16-f687d4c3e13c is completed.\n"
     ]
    }
   ],
   "source": [
    "page = \"\"\"\n",
    "Name: <|{input_name}|input|>\n",
    "<|submit|button|on_action=submit_scenario|>\n",
    "\n",
    "Message: <|{message}|text|>\n",
    "\"\"\"\n",
    "\n",
    "input_name = \"Taipy\"\n",
    "message = None\n",
    "\n",
    "\n",
    "def submit_scenario(state):\n",
    "    state.scenario.input_name.write(state.input_name)\n",
    "    state.scenario.submit(wait=True)\n",
    "    state.message = scenario.message.read()\n",
    "\n",
    "\n",
    "if __name__ == \"__main__\":\n",
    "    Core().run()\n",
    "    scenario = tp.create_scenario(scenario_cfg)\n",
    "    Gui(page).run()"
   ]
  },
  {
   "cell_type": "code",
   "execution_count": 4,
   "id": "349517ab-b0ff-45e7-bc95-51a7a89d2f5e",
   "metadata": {},
   "outputs": [
    {
     "name": "stderr",
     "output_type": "stream",
     "text": [
      "UserWarning: libuv only supports millisecond timer resolution; all times less will be set to 1 ms\n"
     ]
    }
   ],
   "source": [
    "#-------------ALL YOU NEED---------------\n",
    "from taipy import Gui\n",
    "from taipy.gui import Html, Page"
   ]
  },
  {
   "cell_type": "code",
   "execution_count": 6,
   "id": "7cff9a51-931f-48be-9238-1098e4b9d1e8",
   "metadata": {},
   "outputs": [
    {
     "ename": "AttributeError",
     "evalue": "'Page' object has no attribute 'set_content'",
     "output_type": "error",
     "traceback": [
      "\u001b[1;31m---------------------------------------------------------------------------\u001b[0m",
      "\u001b[1;31mAttributeError\u001b[0m                            Traceback (most recent call last)",
      "Cell \u001b[1;32mIn[6], line 19\u001b[0m\n\u001b[0;32m      1\u001b[0m html \u001b[38;5;241m=\u001b[39m \u001b[38;5;124m\"\"\"\u001b[39m\n\u001b[0;32m      2\u001b[0m \u001b[38;5;124m<!DOCTYPE html>\u001b[39m\n\u001b[0;32m      3\u001b[0m \u001b[38;5;124m<html lang=\u001b[39m\u001b[38;5;124m\"\u001b[39m\u001b[38;5;124men\u001b[39m\u001b[38;5;124m\"\u001b[39m\u001b[38;5;124m>\u001b[39m\n\u001b[1;32m   (...)\u001b[0m\n\u001b[0;32m     14\u001b[0m \u001b[38;5;124m</html>\u001b[39m\n\u001b[0;32m     15\u001b[0m \u001b[38;5;124m\"\"\"\u001b[39m\n\u001b[0;32m     17\u001b[0m page \u001b[38;5;241m=\u001b[39m Html(html)\n\u001b[1;32m---> 19\u001b[0m \u001b[43mPage\u001b[49m\u001b[43m(\u001b[49m\u001b[43m)\u001b[49m\u001b[38;5;241;43m.\u001b[39;49m\u001b[43mset_content\u001b[49m(page)\n",
      "\u001b[1;31mAttributeError\u001b[0m: 'Page' object has no attribute 'set_content'"
     ]
    }
   ],
   "source": [
    "html = \"\"\"\n",
    "<!DOCTYPE html>\n",
    "<html lang=\"en\">\n",
    "  <head>\n",
    "    <meta charset=\"UTF-8\">\n",
    "    <meta name=\"viewport\" content=\"width=device-width, initial-scale=1.0\">\n",
    "    <meta http-equiv=\"X-UA-Compatible\" content=\"ie=edge\">\n",
    "    <title>HTML 5 Boilerplate</title>\n",
    "    <link rel=\"stylesheet\" href=\"style.css\">\n",
    "  </head>\n",
    "  <body>\n",
    "    <input type=\"checkbox\">\n",
    "  </body>\n",
    "</html>\n",
    "\"\"\"\n",
    "\n",
    "page = Html(html)\n",
    "\n",
    "().set_content(page)"
   ]
  },
  {
   "cell_type": "code",
   "execution_count": null,
   "id": "d084188e-6775-42cb-b324-f69859336655",
   "metadata": {},
   "outputs": [],
   "source": []
  }
 ],
 "metadata": {
  "kernelspec": {
   "display_name": "env",
   "language": "python",
   "name": "env"
  },
  "language_info": {
   "codemirror_mode": {
    "name": "ipython",
    "version": 3
   },
   "file_extension": ".py",
   "mimetype": "text/x-python",
   "name": "python",
   "nbconvert_exporter": "python",
   "pygments_lexer": "ipython3",
   "version": "3.11.6"
  }
 },
 "nbformat": 4,
 "nbformat_minor": 5
}
